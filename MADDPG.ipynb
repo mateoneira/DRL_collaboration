{
 "cells": [
  {
   "cell_type": "markdown",
   "metadata": {},
   "source": [
    "# Collaboration and Competition\n",
    "\n",
    "---\n",
    "\n",
    "\n",
    "### 1. Start the Environment"
   ]
  },
  {
   "cell_type": "code",
   "execution_count": 1,
   "metadata": {},
   "outputs": [],
   "source": [
    "from unityagents import UnityEnvironment\n",
    "import numpy as np\n",
    "import time\n",
    "from agent.agent import MADDPG\n",
    "import torch\n",
    "\n",
    "from collections import deque\n",
    "import matplotlib.pyplot as plt\n",
    "%matplotlib inline"
   ]
  },
  {
   "cell_type": "code",
   "execution_count": 2,
   "metadata": {},
   "outputs": [
    {
     "name": "stderr",
     "output_type": "stream",
     "text": [
      "INFO:unityagents:\n",
      "'Academy' started successfully!\n",
      "Unity Academy name: Academy\n",
      "        Number of Brains: 1\n",
      "        Number of External Brains : 1\n",
      "        Lesson number : 0\n",
      "        Reset Parameters :\n",
      "\t\t\n",
      "Unity brain name: TennisBrain\n",
      "        Number of Visual Observations (per agent): 0\n",
      "        Vector Observation space type: continuous\n",
      "        Vector Observation space size (per agent): 8\n",
      "        Number of stacked Vector Observation: 3\n",
      "        Vector Action space type: continuous\n",
      "        Vector Action space size (per agent): 2\n",
      "        Vector Action descriptions: , \n"
     ]
    }
   ],
   "source": [
    "env = UnityEnvironment(file_name=\"Tennis_Windows_x86_64/Tennis.exe\")"
   ]
  },
  {
   "cell_type": "code",
   "execution_count": 3,
   "metadata": {},
   "outputs": [],
   "source": [
    "# get the default brain\n",
    "brain_name = env.brain_names[0]\n",
    "brain = env.brains[brain_name]"
   ]
  },
  {
   "cell_type": "code",
   "execution_count": 4,
   "metadata": {},
   "outputs": [
    {
     "name": "stdout",
     "output_type": "stream",
     "text": [
      "Number of agents: 2\n",
      "Size of each action: 2\n",
      "There are 2 agents. Each observes a state with length: 24\n",
      "The state for the first agent looks like: [ 0.          0.          0.          0.          0.          0.\n",
      "  0.          0.          0.          0.          0.          0.\n",
      "  0.          0.          0.          0.         -6.65278625 -1.5\n",
      " -0.          0.          6.83172083  6.         -0.          0.        ]\n"
     ]
    }
   ],
   "source": [
    "# reset the environment\n",
    "env_info = env.reset(train_mode=True)[brain_name]\n",
    "\n",
    "# number of agents \n",
    "num_agents = len(env_info.agents)\n",
    "print('Number of agents:', num_agents)\n",
    "\n",
    "# size of each action\n",
    "action_size = brain.vector_action_space_size\n",
    "print('Size of each action:', action_size)\n",
    "\n",
    "# examine the state space \n",
    "states = env_info.vector_observations\n",
    "state_size = states.shape[1]\n",
    "print('There are {} agents. Each observes a state with length: {}'.format(states.shape[0], state_size))\n",
    "print('The state for the first agent looks like:', states[0])"
   ]
  },
  {
   "cell_type": "markdown",
   "metadata": {},
   "source": [
    "When finished, you can close the environment."
   ]
  },
  {
   "cell_type": "markdown",
   "metadata": {},
   "source": [
    "# MADDPG\n",
    "\n",
    "* for episode = 1 to M do:\n",
    "    * init random process N for action exploration\n",
    "    * recieve initial state x\n",
    "    * for t=1 to max-episode-length do:\n",
    "        * for each agent i, select action with the current agent policy + noise\n",
    "        * execute actions and observe reward r and new state\n",
    "        * store (x, a,r, x') in replay buffer\n",
    "        * x<-x'\n",
    "        * for agent i=1 to N do:\n",
    "            * sample a random minibatch of S samples $(x^j, a^j, r^j, x'^j)$ from $D$\n",
    "            * run gradient descent on sampled policy gradient and update actor-critic\n",
    "\n",
    "## hyper-parameters\n",
    "* learning rate: 0.01\n",
    "* $\\tau = 0.01$ for soft-updates\n",
    "* $\\gamma = 0.95 $\n",
    "* replay buffer size: $10^6$\n",
    "* update frequency: 100 samples added to replay buffer\n",
    "* batch-size: 1024   "
   ]
  },
  {
   "cell_type": "code",
   "execution_count": 5,
   "metadata": {},
   "outputs": [
    {
     "name": "stdout",
     "output_type": "stream",
     "text": [
      "agent using cuda:0 device\n",
      "agent using cuda:0 device\n"
     ]
    }
   ],
   "source": [
    "agent = MADDPG(state_size, action_size)"
   ]
  },
  {
   "cell_type": "code",
   "execution_count": 7,
   "metadata": {},
   "outputs": [],
   "source": [
    "def train(n_episodes=3000):\n",
    "    scores = []\n",
    "    scores_deque = deque(maxlen=100)\n",
    "    scores_avg = []\n",
    "    max_score = 0\n",
    "    \n",
    "    for i_episode in range(1,n_episodes+1):\n",
    "        env_info = env.reset(train_mode=True)[brain_name]\n",
    "        # get initial state\n",
    "        states = env_info.vector_observations\n",
    "        agent.reset()\n",
    "        \n",
    "        #loop over episodes\n",
    "        agent_scores = np.zeros(2)\n",
    "        start_time = time.time()\n",
    "        while True:\n",
    "            # select actions for all agents\n",
    "            actions = agent.act(states)\n",
    "                       \n",
    "            # send action to env\n",
    "            env_info = env.step(actions)[brain_name]\n",
    "            \n",
    "            #observe new state, reward\n",
    "            next_states = env_info.vector_observations\n",
    "            rewards = env_info.rewards                         # get reward (for each agent)\n",
    "            dones = env_info.local_done                       # see if episode finished\n",
    "            agent.step(states, actions, rewards, next_states, dones)\n",
    "            \n",
    "            #update state\n",
    "            states = next_states\n",
    "            \n",
    "            #add agent scores individually\n",
    "            agent_scores += np.array(rewards)\n",
    "            \n",
    "            if any(dones):\n",
    "                break\n",
    "        #get max score\n",
    "        score = agent_scores.max()\n",
    "        scores.append(score)\n",
    "        scores_deque.append(score)        \n",
    "        scores_avg.append(np.mean(scores_deque))\n",
    "        print('\\rEpisode {}\\tAverage Score: {:.2f}\\tScore: {:.2f} \\tTime: {:.2f}'.format(i_episode, \n",
    "                                                                                         np.mean(scores_deque), \n",
    "                                                                                         np.mean(scores), \n",
    "                                                                                         time.time()-start_time), end=\"\")\n",
    "        if np.mean(scores_deque)>max_score:\n",
    "            max_score = np.mean(scores_deque)\n",
    "#             for i, a in enumerate(agent.ddpg_agents):\n",
    "#                 try:\n",
    "# #                     torch.save(a.actor_local.state_dict(), 'checkpoint_actor_{}.pth'.format(i))\n",
    "# #                     torch.save(a.critic_local.state_dict(), 'checkpoint_critic_{}.pth'.format(i))\n",
    "#                 except:\n",
    "#                     print(\"error saving model\")\n",
    "        if i_episode % 100 == 0:\n",
    "            print('\\rEpisode {}\\tAverage Score: {:.2f} \\tMax score: {:.2f} \\tEpsilon: {:.2f} \\tTime: {:.2f}/per episode'.format(i_episode, \n",
    "                                                                                                                                np.mean(scores_deque),\n",
    "                                                                                                                                np.max(scores_deque),\n",
    "                                                                                                                                agent.ddpg_agents[0].epsilon,\n",
    "                                                                                                                                time.time()-start_time))\n",
    "    return scores, scores_avg"
   ]
  },
  {
   "cell_type": "code",
   "execution_count": 8,
   "metadata": {
    "scrolled": true
   },
   "outputs": [
    {
     "name": "stdout",
     "output_type": "stream",
     "text": [
      "Episode 100\tAverage Score: 0.00 \tMax score: 0.10 \tEpsilon: 1.00 \tTime: 0.06/per episode\n",
      "Episode 200\tAverage Score: 0.00 \tMax score: 0.00 \tEpsilon: 1.00 \tTime: 0.06/per episode\n",
      "Episode 300\tAverage Score: 0.00 \tMax score: 0.00 \tEpsilon: 0.99 \tTime: 0.05/per episode\n",
      "Episode 400\tAverage Score: 0.00 \tMax score: 0.10 \tEpsilon: 0.99 \tTime: 0.06/per episode\n",
      "Episode 500\tAverage Score: 0.03 \tMax score: 0.10 \tEpsilon: 0.99 \tTime: 0.10/per episode\n",
      "Episode 600\tAverage Score: 0.04 \tMax score: 0.20 \tEpsilon: 0.98 \tTime: 0.50/per episode\n",
      "Episode 700\tAverage Score: 0.07 \tMax score: 0.20 \tEpsilon: 0.98 \tTime: 0.04/per episode\n",
      "Episode 800\tAverage Score: 0.10 \tMax score: 0.40 \tEpsilon: 0.97 \tTime: 0.17/per episode\n",
      "Episode 900\tAverage Score: 0.11 \tMax score: 0.30 \tEpsilon: 0.96 \tTime: 0.54/per episode\n",
      "Episode 1000\tAverage Score: 0.12 \tMax score: 0.30 \tEpsilon: 0.95 \tTime: 0.57/per episode\n",
      "Episode 1100\tAverage Score: 0.07 \tMax score: 0.20 \tEpsilon: 0.94 \tTime: 0.04/per episode\n",
      "Episode 1200\tAverage Score: 0.10 \tMax score: 0.30 \tEpsilon: 0.93 \tTime: 0.52/per episode\n",
      "Episode 1300\tAverage Score: 0.12 \tMax score: 0.30 \tEpsilon: 0.92 \tTime: 0.60/per episode\n",
      "Episode 1400\tAverage Score: 0.14 \tMax score: 0.50 \tEpsilon: 0.91 \tTime: 0.09/per episode\n",
      "Episode 1500\tAverage Score: 0.15 \tMax score: 0.50 \tEpsilon: 0.90 \tTime: 0.53/per episode\n",
      "Episode 1600\tAverage Score: 0.23 \tMax score: 0.79 \tEpsilon: 0.88 \tTime: 0.53/per episode\n",
      "Episode 1700\tAverage Score: 0.35 \tMax score: 2.60 \tEpsilon: 0.85 \tTime: 0.09/per episode\n",
      "Episode 1800\tAverage Score: 0.50 \tMax score: 2.40 \tEpsilon: 0.82 \tTime: 4.43/per episode\n",
      "Episode 1900\tAverage Score: 1.34 \tMax score: 2.70 \tEpsilon: 0.71 \tTime: 0.52/per episode\n",
      "Episode 2000\tAverage Score: 1.19 \tMax score: 2.70 \tEpsilon: 0.62 \tTime: 9.64/per episode\n",
      "Episode 2100\tAverage Score: 1.36 \tMax score: 2.70 \tEpsilon: 0.52 \tTime: 0.65/per episode\n",
      "Episode 2200\tAverage Score: 0.51 \tMax score: 2.60 \tEpsilon: 0.48 \tTime: 0.09/per episode\n",
      "Episode 2300\tAverage Score: 0.46 \tMax score: 2.40 \tEpsilon: 0.44 \tTime: 1.38/per episode\n",
      "Episode 2400\tAverage Score: 0.26 \tMax score: 1.40 \tEpsilon: 0.42 \tTime: 0.11/per episode\n",
      "Episode 2500\tAverage Score: 0.29 \tMax score: 0.80 \tEpsilon: 0.40 \tTime: 2.14/per episode\n",
      "Episode 2600\tAverage Score: 0.26 \tMax score: 1.70 \tEpsilon: 0.38 \tTime: 0.09/per episode\n",
      "Episode 2700\tAverage Score: 0.05 \tMax score: 0.10 \tEpsilon: 0.37 \tTime: 0.62/per episode\n",
      "Episode 2800\tAverage Score: 0.05 \tMax score: 0.10 \tEpsilon: 0.37 \tTime: 0.05/per episode\n",
      "Episode 2900\tAverage Score: 0.04 \tMax score: 0.10 \tEpsilon: 0.36 \tTime: 0.68/per episode\n",
      "Episode 3000\tAverage Score: 0.04 \tMax score: 0.10 \tEpsilon: 0.36 \tTime: 0.68/per episode\n"
     ]
    }
   ],
   "source": [
    "scores, moving_averages = train()"
   ]
  },
  {
   "cell_type": "code",
   "execution_count": 9,
   "metadata": {},
   "outputs": [
    {
     "data": {
      "image/png": "[encoded data removed]",
      "text/plain": [
       "<Figure size 432x288 with 1 Axes>"
      ]
     },
     "metadata": {
      "needs_background": "light"
     },
     "output_type": "display_data"
    },
    {
     "data": {
      "text/plain": [
       "<Figure size 432x288 with 0 Axes>"
      ]
     },
     "metadata": {},
     "output_type": "display_data"
    }
   ],
   "source": [
    "fig = plt.figure()\n",
    "ax = fig.add_subplot(111)\n",
    "plt.plot(np.arange(1, len(scores)+1), scores)\n",
    "ax.plot([0,3000],[0.5,0.5], color='r', linestyle='--', linewidth=0.6)\n",
    "ax.set_xlim(0, 3000)\n",
    "plt.ylabel('Avg. Score over all agents')\n",
    "plt.xlabel('Episode #')\n",
    "plt.show()\n",
    "plt.tight_layout()\n",
    "plt.savefig('figs/scores.eps')"
   ]
  },
  {
   "cell_type": "code",
   "execution_count": 10,
   "metadata": {},
   "outputs": [
    {
     "data": {
      "image/png": "[encoded data removed]",
      "text/plain": [
       "<Figure size 432x288 with 1 Axes>"
      ]
     },
     "metadata": {
      "needs_background": "light"
     },
     "output_type": "display_data"
    },
    {
     "data": {
      "text/plain": [
       "<Figure size 432x288 with 0 Axes>"
      ]
     },
     "metadata": {},
     "output_type": "display_data"
    }
   ],
   "source": [
    "fig = plt.figure()\n",
    "ax = fig.add_subplot(111)\n",
    "plt.plot(np.arange(1, len(moving_averages)+1), moving_averages)\n",
    "ax.plot([0,3000],[0.5,0.5], color='r', linestyle='--', linewidth=0.6)\n",
    "ax.set_xlim(0, 3000)\n",
    "plt.ylabel('moving average of rewards')\n",
    "plt.xlabel('Episode #')\n",
    "plt.show()\n",
    "plt.tight_layout()\n",
    "plt.savefig('figs/moving_average.eps')"
   ]
  },
  {
   "cell_type": "markdown",
   "metadata": {},
   "source": [
    "## watch agent play"
   ]
  },
  {
   "cell_type": "code",
   "execution_count": 13,
   "metadata": {},
   "outputs": [],
   "source": [
    "for i, a in enumerate(agent.ddpg_agents):\n",
    "    a.actor_local.load_state_dict(torch.load('actor_{}.pth'.format(i)))"
   ]
  },
  {
   "cell_type": "code",
   "execution_count": 15,
   "metadata": {},
   "outputs": [],
   "source": [
    "def play(n_episodes=1):   \n",
    "    for i_episode in range(1,n_episodes+1):\n",
    "        env_info = env.reset(train_mode=False)[brain_name]\n",
    "        # get initial state\n",
    "        states = env_info.vector_observations\n",
    "        agent.reset()\n",
    "\n",
    "        while True:\n",
    "            # select actions for all agents\n",
    "            actions = agent.act(states)\n",
    "                       \n",
    "            # send action to env\n",
    "            env_info = env.step(actions)[brain_name]\n",
    "            \n",
    "            #observe new state, reward\n",
    "            next_states = env_info.vector_observations\n",
    "            rewards = env_info.rewards                         \n",
    "            dones = env_info.local_done                      \n",
    "            \n",
    "            #update state\n",
    "            states = next_states\n",
    "            \n",
    "            if any(dones):\n",
    "                break"
   ]
  },
  {
   "cell_type": "code",
   "execution_count": 16,
   "metadata": {},
   "outputs": [],
   "source": [
    "play()"
   ]
  },
  {
   "cell_type": "code",
   "execution_count": 17,
   "metadata": {},
   "outputs": [],
   "source": [
    "env.close()"
   ]
  }
 ],
 "metadata": {
  "kernelspec": {
   "display_name": "drlnd",
   "language": "python",
   "name": "drlnd"
  },
  "language_info": {
   "codemirror_mode": {
    "name": "ipython",
    "version": 3
   },
   "file_extension": ".py",
   "mimetype": "text/x-python",
   "name": "python",
   "nbconvert_exporter": "python",
   "pygments_lexer": "ipython3",
   "version": "3.6.10"
  }
 },
 "nbformat": 4,
 "nbformat_minor": 2
}
