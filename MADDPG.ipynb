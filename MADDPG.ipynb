{
 "cells": [
  {
   "cell_type": "markdown",
   "metadata": {},
   "source": [
    "# Collaboration and Competition\n",
    "\n",
    "---\n",
    "\n",
    "In this notebook, you will learn how to use the Unity ML-Agents environment for the third project of the [Deep Reinforcement Learning Nanodegree](https://www.udacity.com/course/deep-reinforcement-learning-nanodegree--nd893) program.\n",
    "\n",
    "### 1. Start the Environment\n",
    "\n",
    "We begin by importing the necessary packages.  If the code cell below returns an error, please revisit the project instructions to double-check that you have installed [Unity ML-Agents](https://github.com/Unity-Technologies/ml-agents/blob/master/docs/Installation.md) and [NumPy](http://www.numpy.org/)."
   ]
  },
  {
   "cell_type": "code",
   "execution_count": 11,
   "metadata": {},
   "outputs": [],
   "source": [
    "from unityagents import UnityEnvironment\n",
    "import numpy as np\n",
    "import time\n",
    "\n",
    "from collections import deque\n",
    "import matplotlib.pyplot as plt\n",
    "%matplotlib inline"
   ]
  },
  {
   "cell_type": "markdown",
   "metadata": {},
   "source": [
    "Next, we will start the environment!  **_Before running the code cell below_**, change the `file_name` parameter to match the location of the Unity environment that you downloaded.\n",
    "\n",
    "- **Mac**: `\"path/to/Tennis.app\"`\n",
    "- **Windows** (x86): `\"path/to/Tennis_Windows_x86/Tennis.exe\"`\n",
    "- **Windows** (x86_64): `\"path/to/Tennis_Windows_x86_64/Tennis.exe\"`\n",
    "- **Linux** (x86): `\"path/to/Tennis_Linux/Tennis.x86\"`\n",
    "- **Linux** (x86_64): `\"path/to/Tennis_Linux/Tennis.x86_64\"`\n",
    "- **Linux** (x86, headless): `\"path/to/Tennis_Linux_NoVis/Tennis.x86\"`\n",
    "- **Linux** (x86_64, headless): `\"path/to/Tennis_Linux_NoVis/Tennis.x86_64\"`\n",
    "\n",
    "For instance, if you are using a Mac, then you downloaded `Tennis.app`.  If this file is in the same folder as the notebook, then the line below should appear as follows:\n",
    "```\n",
    "env = UnityEnvironment(file_name=\"Tennis.app\")\n",
    "```"
   ]
  },
  {
   "cell_type": "code",
   "execution_count": 2,
   "metadata": {},
   "outputs": [
    {
     "name": "stderr",
     "output_type": "stream",
     "text": [
      "INFO:unityagents:\n",
      "'Academy' started successfully!\n",
      "Unity Academy name: Academy\n",
      "        Number of Brains: 1\n",
      "        Number of External Brains : 1\n",
      "        Lesson number : 0\n",
      "        Reset Parameters :\n",
      "\t\t\n",
      "Unity brain name: TennisBrain\n",
      "        Number of Visual Observations (per agent): 0\n",
      "        Vector Observation space type: continuous\n",
      "        Vector Observation space size (per agent): 8\n",
      "        Number of stacked Vector Observation: 3\n",
      "        Vector Action space type: continuous\n",
      "        Vector Action space size (per agent): 2\n",
      "        Vector Action descriptions: , \n"
     ]
    }
   ],
   "source": [
    "env = UnityEnvironment(file_name=\"Tennis_Windows_x86_64/Tennis.exe\")"
   ]
  },
  {
   "cell_type": "markdown",
   "metadata": {},
   "source": [
    "Environments contain **_brains_** which are responsible for deciding the actions of their associated agents. Here we check for the first brain available, and set it as the default brain we will be controlling from Python."
   ]
  },
  {
   "cell_type": "code",
   "execution_count": 3,
   "metadata": {},
   "outputs": [],
   "source": [
    "# get the default brain\n",
    "brain_name = env.brain_names[0]\n",
    "brain = env.brains[brain_name]"
   ]
  },
  {
   "cell_type": "markdown",
   "metadata": {},
   "source": [
    "### 2. Examine the State and Action Spaces\n",
    "\n",
    "In this environment, two agents control rackets to bounce a ball over a net. If an agent hits the ball over the net, it receives a reward of +0.1.  If an agent lets a ball hit the ground or hits the ball out of bounds, it receives a reward of -0.01.  Thus, the goal of each agent is to keep the ball in play.\n",
    "\n",
    "The observation space consists of 8 variables corresponding to the position and velocity of the ball and racket. Two continuous actions are available, corresponding to movement toward (or away from) the net, and jumping. \n",
    "\n",
    "Run the code cell below to print some information about the environment."
   ]
  },
  {
   "cell_type": "code",
   "execution_count": 4,
   "metadata": {},
   "outputs": [
    {
     "name": "stdout",
     "output_type": "stream",
     "text": [
      "Number of agents: 2\n",
      "Size of each action: 2\n",
      "There are 2 agents. Each observes a state with length: 24\n",
      "The state for the first agent looks like: [ 0.          0.          0.          0.          0.          0.\n",
      "  0.          0.          0.          0.          0.          0.\n",
      "  0.          0.          0.          0.         -6.65278625 -1.5\n",
      " -0.          0.          6.83172083  6.         -0.          0.        ]\n"
     ]
    }
   ],
   "source": [
    "# reset the environment\n",
    "env_info = env.reset(train_mode=True)[brain_name]\n",
    "\n",
    "# number of agents \n",
    "num_agents = len(env_info.agents)\n",
    "print('Number of agents:', num_agents)\n",
    "\n",
    "# size of each action\n",
    "action_size = brain.vector_action_space_size\n",
    "print('Size of each action:', action_size)\n",
    "\n",
    "# examine the state space \n",
    "states = env_info.vector_observations\n",
    "state_size = states.shape[1]\n",
    "print('There are {} agents. Each observes a state with length: {}'.format(states.shape[0], state_size))\n",
    "print('The state for the first agent looks like:', states[0])"
   ]
  },
  {
   "cell_type": "markdown",
   "metadata": {},
   "source": [
    "When finished, you can close the environment."
   ]
  },
  {
   "cell_type": "markdown",
   "metadata": {},
   "source": [
    "# MADDPG\n",
    "\n",
    "* for episode = 1 to M do:\n",
    "    * init random process N for action exploration\n",
    "    * recieve initial state x\n",
    "    * for t=1 to max-episode-length do:\n",
    "        * for each agent i, select action with the current agent policy + noise\n",
    "        * execute actions and observe reward r and new state\n",
    "        * store (x, a,r, x') in replay buffer\n",
    "        * x<-x'\n",
    "        * for agent i=1 to N do:\n",
    "            * sample a random minibatch of S samples $(x^j, a^j, r^j, x'^j)$ from $D$\n",
    "            * run gradient descent on sampled policy gradient and update actor-critic\n",
    "\n",
    "## hyper-parameters\n",
    "* learning rate: 0.01\n",
    "* $\\tau = 0.01$ for soft-updates\n",
    "* $\\gamma = 0.95 $\n",
    "* replay buffer size: $10^6$\n",
    "* update frequency: 100 samples added to replay buffer\n",
    "* batch-size: 1024   "
   ]
  },
  {
   "cell_type": "code",
   "execution_count": 28,
   "metadata": {},
   "outputs": [],
   "source": [
    "class Agent():\n",
    "    def __init__(self):\n",
    "        self.epsilon=0\n",
    "    def act(self, states):\n",
    "        actions = np.random.randn(num_agents, action_size) # select an action (for each agent)\n",
    "        actions = np.clip(actions, -1, 1)                  # all actions between -1 and 1\n",
    "        return actions\n",
    "    def reset(self):\n",
    "        pass\n",
    "\n",
    "# init agents with noise\n",
    "# agent = agent.MADDPG()\n",
    "agent = Agent()"
   ]
  },
  {
   "cell_type": "code",
   "execution_count": 35,
   "metadata": {},
   "outputs": [],
   "source": [
    "def train(n_episodes=500):\n",
    "    scores = []\n",
    "    scores_deque = deque(maxlen=100)\n",
    "    scores_avg = []\n",
    "    max_score = 0\n",
    "    \n",
    "    for i_episode in range(1,n_episodes+1):\n",
    "        env_info = env.reset(train_mode=True)[brain_name]\n",
    "        # get initial state\n",
    "        states = env_info.vector_observations\n",
    "        agent.reset()\n",
    "        \n",
    "        #loop over episodes\n",
    "        agent_scores = np.zeros(2)\n",
    "        start_time = time.time()\n",
    "        while True:\n",
    "            # select actions for all agents\n",
    "            actions = agent.act(states)\n",
    "                       \n",
    "            # send action to env\n",
    "            env_info = env.step(actions)[brain_name]\n",
    "            \n",
    "            #observe new state, reward\n",
    "            next_states = env_info.vector_observations\n",
    "            rewards = env_info.rewards                         # get reward (for each agent)\n",
    "            dones = env_info.local_done                       # see if episode finished\n",
    "#             agent.step(states, actions, rewards, next_states, dones)\n",
    "            \n",
    "            #update state\n",
    "            states = next_states\n",
    "            \n",
    "            #add agent scores individually\n",
    "            agent_scores += np.array(rewards)\n",
    "            \n",
    "            if any(dones):\n",
    "                break\n",
    "        #get max score\n",
    "        score = agent_scores.max()\n",
    "        scores.append(score)\n",
    "        scores_deque.append(score)        \n",
    "        scores_avg.append(np.mean(scores_deque))\n",
    "        print('\\rEpisode {}\\tAverage Score: {:.2f}\\tScore: {:.2f} \\tTime: {:.2f}'.format(i_episode, \n",
    "                                                                                         np.mean(scores_deque), \n",
    "                                                                                         np.mean(scores), \n",
    "                                                                                         time.time()-start_time), end=\"\")\n",
    "        if np.mean(scores_deque)>max_score:\n",
    "            max_score = np.mean(scores_deque)\n",
    "#             torch.save(agent.actor_local.state_dict(), 'checkpoint_actor.pth'.format(i_episode))\n",
    "#             torch.save(agent.critic_local.state_dict(), 'checkpoint_critic.pth'.format(i_episode))\n",
    "            \n",
    "        if i_episode % 10 == 0:\n",
    "            print('\\rEpisode {}\\tAverage Score: {:.2f} \\tMax score: {:.2f} \\tEpsilon: {:.2f} \\tTime: {:.2f}/per episode'.format(i_episode, \n",
    "                                                                                                                                np.mean(scores_deque), \n",
    "                                                                                                                                np.max(scores_deque), \n",
    "                                                                                                                                agent.epsilon, \n",
    "                                                                                                                                time.time()-start_time))   \n",
    "        \n",
    "    return scores, scores_avg"
   ]
  },
  {
   "cell_type": "code",
   "execution_count": 36,
   "metadata": {},
   "outputs": [
    {
     "name": "stdout",
     "output_type": "stream",
     "text": [
      "Episode 10\tAverage Score: 0.01 \tMax score: 0.10 \tEpsilon: 0.00 \tTime: 0.03/per episode\n",
      "Episode 20\tAverage Score: 0.02 \tMax score: 0.10 \tEpsilon: 0.00 \tTime: 0.13/per episode\n",
      "Episode 30\tAverage Score: 0.02 \tMax score: 0.10 \tEpsilon: 0.00 \tTime: 0.03/per episode\n",
      "Episode 40\tAverage Score: 0.02 \tMax score: 0.10 \tEpsilon: 0.00 \tTime: 0.07/per episode\n",
      "Episode 50\tAverage Score: 0.02 \tMax score: 0.10 \tEpsilon: 0.00 \tTime: 0.07/per episode\n",
      "Episode 60\tAverage Score: 0.02 \tMax score: 0.10 \tEpsilon: 0.00 \tTime: 0.03/per episode\n",
      "Episode 70\tAverage Score: 0.02 \tMax score: 0.10 \tEpsilon: 0.00 \tTime: 0.03/per episode\n",
      "Episode 80\tAverage Score: 0.02 \tMax score: 0.20 \tEpsilon: 0.00 \tTime: 0.04/per episode\n",
      "Episode 90\tAverage Score: 0.02 \tMax score: 0.20 \tEpsilon: 0.00 \tTime: 0.03/per episode\n",
      "Episode 100\tAverage Score: 0.02 \tMax score: 0.20 \tEpsilon: 0.00 \tTime: 0.03/per episode\n",
      "Episode 110\tAverage Score: 0.02 \tMax score: 0.20 \tEpsilon: 0.00 \tTime: 0.03/per episode\n",
      "Episode 120\tAverage Score: 0.02 \tMax score: 0.20 \tEpsilon: 0.00 \tTime: 0.03/per episode\n",
      "Episode 130\tAverage Score: 0.02 \tMax score: 0.20 \tEpsilon: 0.00 \tTime: 0.04/per episode\n",
      "Episode 140\tAverage Score: 0.02 \tMax score: 0.20 \tEpsilon: 0.00 \tTime: 0.07/per episode\n",
      "Episode 150\tAverage Score: 0.02 \tMax score: 0.20 \tEpsilon: 0.00 \tTime: 0.04/per episode\n",
      "Episode 160\tAverage Score: 0.02 \tMax score: 0.20 \tEpsilon: 0.00 \tTime: 0.03/per episode\n",
      "Episode 170\tAverage Score: 0.02 \tMax score: 0.20 \tEpsilon: 0.00 \tTime: 0.03/per episode\n",
      "Episode 180\tAverage Score: 0.02 \tMax score: 0.10 \tEpsilon: 0.00 \tTime: 0.03/per episode\n",
      "Episode 190\tAverage Score: 0.02 \tMax score: 0.10 \tEpsilon: 0.00 \tTime: 0.05/per episode\n",
      "Episode 200\tAverage Score: 0.02 \tMax score: 0.10 \tEpsilon: 0.00 \tTime: 0.04/per episode\n",
      "Episode 210\tAverage Score: 0.03 \tMax score: 0.20 \tEpsilon: 0.00 \tTime: 0.04/per episode\n",
      "Episode 220\tAverage Score: 0.03 \tMax score: 0.20 \tEpsilon: 0.00 \tTime: 0.07/per episode\n",
      "Episode 230\tAverage Score: 0.03 \tMax score: 0.20 \tEpsilon: 0.00 \tTime: 0.07/per episode\n",
      "Episode 240\tAverage Score: 0.03 \tMax score: 0.20 \tEpsilon: 0.00 \tTime: 0.07/per episode\n",
      "Episode 250\tAverage Score: 0.03 \tMax score: 0.20 \tEpsilon: 0.00 \tTime: 0.03/per episode\n",
      "Episode 260\tAverage Score: 0.03 \tMax score: 0.20 \tEpsilon: 0.00 \tTime: 0.03/per episode\n",
      "Episode 270\tAverage Score: 0.03 \tMax score: 0.20 \tEpsilon: 0.00 \tTime: 0.03/per episode\n",
      "Episode 280\tAverage Score: 0.03 \tMax score: 0.20 \tEpsilon: 0.00 \tTime: 0.03/per episode\n",
      "Episode 290\tAverage Score: 0.02 \tMax score: 0.20 \tEpsilon: 0.00 \tTime: 0.03/per episode\n",
      "Episode 300\tAverage Score: 0.03 \tMax score: 0.20 \tEpsilon: 0.00 \tTime: 0.05/per episode\n",
      "Episode 310\tAverage Score: 0.02 \tMax score: 0.20 \tEpsilon: 0.00 \tTime: 0.03/per episode\n",
      "Episode 320\tAverage Score: 0.02 \tMax score: 0.20 \tEpsilon: 0.00 \tTime: 0.03/per episode\n",
      "Episode 330\tAverage Score: 0.02 \tMax score: 0.20 \tEpsilon: 0.00 \tTime: 0.04/per episode\n",
      "Episode 340\tAverage Score: 0.02 \tMax score: 0.20 \tEpsilon: 0.00 \tTime: 0.04/per episode\n",
      "Episode 350\tAverage Score: 0.02 \tMax score: 0.20 \tEpsilon: 0.00 \tTime: 0.03/per episode\n",
      "Episode 360\tAverage Score: 0.03 \tMax score: 0.20 \tEpsilon: 0.00 \tTime: 0.04/per episode\n",
      "Episode 370\tAverage Score: 0.02 \tMax score: 0.20 \tEpsilon: 0.00 \tTime: 0.03/per episode\n",
      "Episode 380\tAverage Score: 0.03 \tMax score: 0.20 \tEpsilon: 0.00 \tTime: 0.08/per episode\n",
      "Episode 390\tAverage Score: 0.03 \tMax score: 0.20 \tEpsilon: 0.00 \tTime: 0.03/per episode\n",
      "Episode 400\tAverage Score: 0.03 \tMax score: 0.19 \tEpsilon: 0.00 \tTime: 0.03/per episode\n",
      "Episode 410\tAverage Score: 0.03 \tMax score: 0.19 \tEpsilon: 0.00 \tTime: 0.03/per episode\n",
      "Episode 420\tAverage Score: 0.03 \tMax score: 0.20 \tEpsilon: 0.00 \tTime: 0.03/per episode\n",
      "Episode 430\tAverage Score: 0.03 \tMax score: 0.20 \tEpsilon: 0.00 \tTime: 0.03/per episode\n",
      "Episode 440\tAverage Score: 0.03 \tMax score: 0.20 \tEpsilon: 0.00 \tTime: 0.08/per episode\n",
      "Episode 450\tAverage Score: 0.03 \tMax score: 0.20 \tEpsilon: 0.00 \tTime: 0.03/per episode\n",
      "Episode 460\tAverage Score: 0.03 \tMax score: 0.20 \tEpsilon: 0.00 \tTime: 0.03/per episode\n",
      "Episode 470\tAverage Score: 0.03 \tMax score: 0.20 \tEpsilon: 0.00 \tTime: 0.12/per episode\n",
      "Episode 480\tAverage Score: 0.03 \tMax score: 0.20 \tEpsilon: 0.00 \tTime: 0.04/per episode\n",
      "Episode 490\tAverage Score: 0.03 \tMax score: 0.20 \tEpsilon: 0.00 \tTime: 0.04/per episode\n",
      "Episode 500\tAverage Score: 0.03 \tMax score: 0.20 \tEpsilon: 0.00 \tTime: 0.03/per episode\n"
     ]
    }
   ],
   "source": [
    "scores, moving_averages = train()"
   ]
  },
  {
   "cell_type": "code",
   "execution_count": 39,
   "metadata": {},
   "outputs": [],
   "source": [
    "env.close()"
   ]
  },
  {
   "cell_type": "code",
   "execution_count": 37,
   "metadata": {},
   "outputs": [
    {
     "data": {
      "image/png": "[encoded data removed]",
      "text/plain": [
       "<Figure size 432x288 with 1 Axes>"
      ]
     },
     "metadata": {
      "needs_background": "light"
     },
     "output_type": "display_data"
    }
   ],
   "source": [
    "fig = plt.figure()\n",
    "ax = fig.add_subplot(111)\n",
    "plt.plot(np.arange(1, len(scores)+1), scores)\n",
    "ax.plot([0,500],[0.5,0.5], color='r', linestyle='--', linewidth=0.6)\n",
    "ax.set_xlim(0, 500)\n",
    "plt.ylabel('Avg. Score over all agents')\n",
    "plt.xlabel('Episode #')\n",
    "plt.show()\n",
    "# plt.tight_layout()\n",
    "# plt.savefig('scores.eps')"
   ]
  },
  {
   "cell_type": "code",
   "execution_count": 38,
   "metadata": {},
   "outputs": [
    {
     "data": {
      "image/png": "[encoded data removed]",
      "text/plain": [
       "<Figure size 432x288 with 1 Axes>"
      ]
     },
     "metadata": {
      "needs_background": "light"
     },
     "output_type": "display_data"
    }
   ],
   "source": [
    "fig = plt.figure()\n",
    "ax = fig.add_subplot(111)\n",
    "plt.plot(np.arange(1, len(moving_averages)+1), moving_averages)\n",
    "ax.plot([0,500],[0.5,0.5], color='r', linestyle='--', linewidth=0.6)\n",
    "ax.set_xlim(0, 500)\n",
    "plt.ylabel('moving average of rewards')\n",
    "plt.xlabel('Episode #')\n",
    "plt.show()\n",
    "# plt.tight_layout()\n",
    "# plt.savefig('moving_average.eps')"
   ]
  }
 ],
 "metadata": {
  "kernelspec": {
   "display_name": "drlnd",
   "language": "python",
   "name": "drlnd"
  },
  "language_info": {
   "codemirror_mode": {
    "name": "ipython",
    "version": 3
   },
   "file_extension": ".py",
   "mimetype": "text/x-python",
   "name": "python",
   "nbconvert_exporter": "python",
   "pygments_lexer": "ipython3",
   "version": "3.6.10"
  }
 },
 "nbformat": 4,
 "nbformat_minor": 2
}
